{
 "cells": [
  {
   "cell_type": "code",
   "execution_count": 1,
   "id": "93f9dba2",
   "metadata": {},
   "outputs": [],
   "source": [
    "from sklearn.datasets import load_boston\n",
    "from sklearn.linear_model import LinearRegression\n",
    "from sklearn.metrics import mean_squared_error\n",
    "\n",
    "import pandas as pd\n",
    "import numpy as np"
   ]
  },
  {
   "cell_type": "code",
   "execution_count": 10,
   "id": "6c6deec9",
   "metadata": {},
   "outputs": [
    {
     "data": {
      "text/plain": [
       "(506, 1)"
      ]
     },
     "execution_count": 10,
     "metadata": {},
     "output_type": "execute_result"
    }
   ],
   "source": [
    "# Gather data\n",
    "boston_dataset = load_boston()\n",
    "data = pd.DataFrame(data=boston_dataset.data, columns=boston_dataset.feature_names)\n",
    "features = data.drop(['INDUS', 'AGE'], axis=1)\n",
    "features.head()\n",
    "\n",
    "log_prices = np.log(boston_dataset.target)\n",
    "target = pd.DataFrame(log_prices, columns=['PRICE'])\n",
    "target.shape"
   ]
  },
  {
   "cell_type": "code",
   "execution_count": 15,
   "id": "da4e3da7",
   "metadata": {},
   "outputs": [
    {
     "data": {
      "text/plain": [
       "array([[8.3e+001, 4.9e-324, 1.5e-323, 2.0e-323, 2.5e-323, 3.5e-323,\n",
       "        4.0e-323, 4.4e-323, 4.9e-323, 5.4e-323, 5.9e-323]])"
      ]
     },
     "execution_count": 15,
     "metadata": {},
     "output_type": "execute_result"
    }
   ],
   "source": [
    "property_stats = np.ndarray(shape=(1,11))\n",
    "property_stats[0][0] = 83\n",
    "property_stats"
   ]
  },
  {
   "cell_type": "code",
   "execution_count": 23,
   "id": "79e20672",
   "metadata": {},
   "outputs": [
    {
     "data": {
      "text/plain": [
       "array([[3.61352356e+00, 1.13636364e+01, 6.91699605e-02, 5.54695059e-01,\n",
       "        6.28463439e+00, 3.79504269e+00, 9.54940711e+00, 4.08237154e+02,\n",
       "        1.84555336e+01, 3.56674032e+02, 1.26530632e+01]])"
      ]
     },
     "execution_count": 23,
     "metadata": {},
     "output_type": "execute_result"
    }
   ],
   "source": [
    "features.mean().values.reshape(1,11)"
   ]
  },
  {
   "cell_type": "code",
   "execution_count": 25,
   "id": "30c0ff56",
   "metadata": {},
   "outputs": [],
   "source": [
    "property_stats = features.mean().values.reshape(1,11)"
   ]
  },
  {
   "cell_type": "code",
   "execution_count": 26,
   "id": "4bc75de2",
   "metadata": {},
   "outputs": [
    {
     "data": {
      "text/plain": [
       "array([[3.61352356e+00, 1.13636364e+01, 6.91699605e-02, 5.54695059e-01,\n",
       "        6.28463439e+00, 3.79504269e+00, 9.54940711e+00, 4.08237154e+02,\n",
       "        1.84555336e+01, 3.56674032e+02, 1.26530632e+01]])"
      ]
     },
     "execution_count": 26,
     "metadata": {},
     "output_type": "execute_result"
    }
   ],
   "source": [
    "property_stats"
   ]
  },
  {
   "cell_type": "code",
   "execution_count": 31,
   "id": "cec87fbb",
   "metadata": {},
   "outputs": [
    {
     "data": {
      "text/plain": [
       "0.18751213519713034"
      ]
     },
     "execution_count": 31,
     "metadata": {},
     "output_type": "execute_result"
    }
   ],
   "source": [
    "regr = LinearRegression().fit(features, target)\n",
    "fitted_vals = regr.predict(features)\n",
    "\n",
    "# challenge: calculate the MSE and RMSE using sklearn\n",
    "MSE = mean_squared_error(target, fitted_vals)\n",
    "RMSE = np.sqrt(MSE)\n",
    "RMSE"
   ]
  },
  {
   "cell_type": "code",
   "execution_count": 78,
   "id": "258b4371",
   "metadata": {},
   "outputs": [],
   "source": [
    "CRIME_IDX = 0\n",
    "CHAX_IDX = 2\n",
    "ZN_IDX = 1\n",
    "RM_IDX = 4\n",
    "PTRATIO_IDX = 8\n",
    "\n",
    "def get_log_estimate(nr_rooms,\n",
    "                    students_per_classrooms,\n",
    "                    next_to_river=False,\n",
    "                    high_confidence=True):\n",
    "    # Configure property\n",
    "    property_stats[0][RM_IDX] = nr_rooms\n",
    "    property_stats[0][PTRATIO_IDX] = students_per_classrooms\n",
    "    \n",
    "    if next_to_river:\n",
    "        property_stats[0][CHAX_IDX] = 1\n",
    "    else:\n",
    "        property_stats[0][CHAX_IDX] = 0\n",
    "        \n",
    "    # Make Prediction\n",
    "    log_estimate = regr.predict(property_stats)[0][0]\n",
    "    \n",
    "    if high_confidence:\n",
    "        upper_bound = log_estimate + 2*RMSE\n",
    "        lower_bound = log_estimate - 2*RMSE\n",
    "        interval = 95\n",
    "    else:\n",
    "        upper_bound = log_estimate + RMSE\n",
    "        lower_bound = log_estimate - RMSE\n",
    "        interval = 68\n",
    "    \n",
    "    return log_estimate, upper_bound, lower_bound, interval"
   ]
  },
  {
   "cell_type": "code",
   "execution_count": 79,
   "id": "54a5797a",
   "metadata": {},
   "outputs": [
    {
     "data": {
      "text/plain": [
       "(2.6603403467242894, 2.8478524819214197, 2.472828211527159, 68)"
      ]
     },
     "execution_count": 79,
     "metadata": {},
     "output_type": "execute_result"
    }
   ],
   "source": [
    "get_log_estimate(3, 20, next_to_river=False, high_confidence=False)"
   ]
  },
  {
   "cell_type": "code",
   "execution_count": 80,
   "id": "b1050de7",
   "metadata": {},
   "outputs": [
    {
     "data": {
      "text/plain": [
       "21.2"
      ]
     },
     "execution_count": 80,
     "metadata": {},
     "output_type": "execute_result"
    }
   ],
   "source": [
    "np.median(boston_dataset.target)"
   ]
  },
  {
   "cell_type": "code",
   "execution_count": 81,
   "id": "758fe502",
   "metadata": {},
   "outputs": [
    {
     "name": "stdout",
     "output_type": "stream",
     "text": [
      "The estimated property value is 817000.0.\n",
      "At 68% confidence, the valuation range is\n",
      "USD 678000.0 at the lower end to USD 986000.0 at the high end\n"
     ]
    }
   ],
   "source": [
    "# Challenge: Write the Pytho code that converts the log price estimate using \n",
    "# 1970s Proces as well as the upper and lower bounds \n",
    "# to today's prices, Round the values to the nearest 1000 dollars \n",
    "\n",
    "ZILLOW_MEDIAN_PRICE = 583.3\n",
    "SCALE_FACTOR = ZILLOW_MEDIAN_PRICE/np.median(boston_dataset.target)\n",
    "\n",
    "log_est, upper, lower, conf = get_log_estimate(9, students_per_classrooms=15, \n",
    "                                              next_to_river=False, high_confidence=False)\n",
    "\n",
    "# Convert to today's dollars\n",
    "dollar_est = np.e**log_est * 1000 * SCALE_FACTOR\n",
    "dollar_high = np.e**upper * 1000 * SCALE_FACTOR\n",
    "dollar_lower = np.e**lower * 1000 * SCALE_FACTOR\n",
    "\n",
    "# Round the dollar values to nearest thousand\n",
    "rounded_est = np.around(dollar_est, -3)\n",
    "rounded_high = np.around(dollar_high, -3)\n",
    "rounded_lower = np.around(dollar_lower, -3)\n",
    "\n",
    "print(f'The estimated property value is {rounded_est}.')\n",
    "print(f'At {conf}% confidence, the valuation range is')\n",
    "print(f'USD {rounded_lower} at the lower end to USD {rounded_high} at the high end')\n",
    "\n"
   ]
  },
  {
   "cell_type": "code",
   "execution_count": 82,
   "id": "aecdead7",
   "metadata": {},
   "outputs": [],
   "source": [
    "def get_dollar_estimate(rm, ptratio, chas=False, large_range=True):\n",
    "    \n",
    "    \"\"\"\n",
    "    Estimate the price of a property in Boston.\n",
    "    \n",
    "    Keyword arguments:\n",
    "    rm -- number of rooms in the property\n",
    "    ptratio -- number of students per teacher in the classroo for the school in the area\n",
    "    chas -- True if the property is next to the river, False otherwise\n",
    "    large_range -- True for a 95% prediction interval, False for a 68% interval\n",
    "    \n",
    "    \"\"\"\n",
    "    \n",
    "    \n",
    "    if rm<1 or ptratio<1:\n",
    "        print('That is unrealistic. Try again!')\n",
    "        return\n",
    "    \n",
    "    \n",
    "    log_est, upper, lower, conf = get_log_estimate(rm, \n",
    "                                                   ptratio, \n",
    "                                                   next_to_river=chas, \n",
    "                                                   high_confidence=large_range)\n",
    "\n",
    "    # Convert to today's dollars\n",
    "    dollar_est = np.e**log_est * 1000 * SCALE_FACTOR\n",
    "    dollar_high = np.e**upper * 1000 * SCALE_FACTOR\n",
    "    dollar_lower = np.e**lower * 1000 * SCALE_FACTOR\n",
    "\n",
    "    # Round the dollar values to nearest thousand\n",
    "    rounded_est = np.around(dollar_est, -3)\n",
    "    rounded_high = np.around(dollar_high, -3)\n",
    "    rounded_lower = np.around(dollar_lower, -3)\n",
    "\n",
    "    print(f'The estimated property value is {rounded_est}.')\n",
    "    print(f'At {conf}% confidence, the valuation range is')\n",
    "    print(f'USD {rounded_lower} at the lower end to USD {rounded_high} at the high end')   \n",
    "     "
   ]
  },
  {
   "cell_type": "code",
   "execution_count": 77,
   "id": "f9fcd2ea",
   "metadata": {},
   "outputs": [
    {
     "name": "stdout",
     "output_type": "stream",
     "text": [
      "The estimated property value is 358000.0.\n",
      "At 95% confidence, the valuation range is\n",
      "USD 246000.0 at the lower end to USD 521000.0 at the high end\n"
     ]
    }
   ],
   "source": [
    "get_dollar_estimate(rm=6, ptratio=30, chas=True)"
   ]
  },
  {
   "cell_type": "code",
   "execution_count": 85,
   "id": "4c3e5b5d",
   "metadata": {},
   "outputs": [
    {
     "name": "stdout",
     "output_type": "stream",
     "text": [
      "The estimated property value is 847000.0.\n",
      "At 95% confidence, the valuation range is\n",
      "USD 582000.0 at the lower end to USD 1233000.0 at the high end\n"
     ]
    }
   ],
   "source": [
    "import boston_valuation as val\n",
    "val.get_dollar_estimate(6,12,True)"
   ]
  },
  {
   "cell_type": "code",
   "execution_count": null,
   "id": "84f8b008",
   "metadata": {},
   "outputs": [],
   "source": []
  },
  {
   "cell_type": "code",
   "execution_count": null,
   "id": "f4878586",
   "metadata": {},
   "outputs": [],
   "source": []
  }
 ],
 "metadata": {
  "kernelspec": {
   "display_name": "Python 3 (ipykernel)",
   "language": "python",
   "name": "python3"
  },
  "language_info": {
   "codemirror_mode": {
    "name": "ipython",
    "version": 3
   },
   "file_extension": ".py",
   "mimetype": "text/x-python",
   "name": "python",
   "nbconvert_exporter": "python",
   "pygments_lexer": "ipython3",
   "version": "3.9.7"
  }
 },
 "nbformat": 4,
 "nbformat_minor": 5
}
